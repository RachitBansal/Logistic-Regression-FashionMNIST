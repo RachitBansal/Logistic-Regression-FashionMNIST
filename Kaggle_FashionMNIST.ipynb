{
 "cells": [
  {
   "cell_type": "code",
   "execution_count": 57,
   "metadata": {},
   "outputs": [],
   "source": [
    "import numpy as np\n",
    "import pandas as pd\n",
    "from sklearn.linear_model import LogisticRegression\n",
    "import matplotlib.pyplot as plt"
   ]
  },
  {
   "cell_type": "markdown",
   "metadata": {},
   "source": [
    "### Preparing Data"
   ]
  },
  {
   "cell_type": "code",
   "execution_count": 58,
   "metadata": {},
   "outputs": [
    {
     "data": {
      "text/html": [
       "<div>\n",
       "<style scoped>\n",
       "    .dataframe tbody tr th:only-of-type {\n",
       "        vertical-align: middle;\n",
       "    }\n",
       "\n",
       "    .dataframe tbody tr th {\n",
       "        vertical-align: top;\n",
       "    }\n",
       "\n",
       "    .dataframe thead th {\n",
       "        text-align: right;\n",
       "    }\n",
       "</style>\n",
       "<table border=\"1\" class=\"dataframe\">\n",
       "  <thead>\n",
       "    <tr style=\"text-align: right;\">\n",
       "      <th></th>\n",
       "      <th>label</th>\n",
       "      <th>pixel1</th>\n",
       "      <th>pixel2</th>\n",
       "      <th>pixel3</th>\n",
       "      <th>pixel4</th>\n",
       "      <th>pixel5</th>\n",
       "      <th>pixel6</th>\n",
       "      <th>pixel7</th>\n",
       "      <th>pixel8</th>\n",
       "      <th>pixel9</th>\n",
       "      <th>...</th>\n",
       "      <th>pixel775</th>\n",
       "      <th>pixel776</th>\n",
       "      <th>pixel777</th>\n",
       "      <th>pixel778</th>\n",
       "      <th>pixel779</th>\n",
       "      <th>pixel780</th>\n",
       "      <th>pixel781</th>\n",
       "      <th>pixel782</th>\n",
       "      <th>pixel783</th>\n",
       "      <th>pixel784</th>\n",
       "    </tr>\n",
       "  </thead>\n",
       "  <tbody>\n",
       "    <tr>\n",
       "      <th>0</th>\n",
       "      <td>2</td>\n",
       "      <td>0</td>\n",
       "      <td>0</td>\n",
       "      <td>0</td>\n",
       "      <td>0</td>\n",
       "      <td>0</td>\n",
       "      <td>0</td>\n",
       "      <td>0</td>\n",
       "      <td>0</td>\n",
       "      <td>0</td>\n",
       "      <td>...</td>\n",
       "      <td>0</td>\n",
       "      <td>0</td>\n",
       "      <td>0</td>\n",
       "      <td>0</td>\n",
       "      <td>0</td>\n",
       "      <td>0</td>\n",
       "      <td>0</td>\n",
       "      <td>0</td>\n",
       "      <td>0</td>\n",
       "      <td>0</td>\n",
       "    </tr>\n",
       "    <tr>\n",
       "      <th>1</th>\n",
       "      <td>9</td>\n",
       "      <td>0</td>\n",
       "      <td>0</td>\n",
       "      <td>0</td>\n",
       "      <td>0</td>\n",
       "      <td>0</td>\n",
       "      <td>0</td>\n",
       "      <td>0</td>\n",
       "      <td>0</td>\n",
       "      <td>0</td>\n",
       "      <td>...</td>\n",
       "      <td>0</td>\n",
       "      <td>0</td>\n",
       "      <td>0</td>\n",
       "      <td>0</td>\n",
       "      <td>0</td>\n",
       "      <td>0</td>\n",
       "      <td>0</td>\n",
       "      <td>0</td>\n",
       "      <td>0</td>\n",
       "      <td>0</td>\n",
       "    </tr>\n",
       "    <tr>\n",
       "      <th>2</th>\n",
       "      <td>6</td>\n",
       "      <td>0</td>\n",
       "      <td>0</td>\n",
       "      <td>0</td>\n",
       "      <td>0</td>\n",
       "      <td>0</td>\n",
       "      <td>0</td>\n",
       "      <td>0</td>\n",
       "      <td>5</td>\n",
       "      <td>0</td>\n",
       "      <td>...</td>\n",
       "      <td>0</td>\n",
       "      <td>0</td>\n",
       "      <td>0</td>\n",
       "      <td>30</td>\n",
       "      <td>43</td>\n",
       "      <td>0</td>\n",
       "      <td>0</td>\n",
       "      <td>0</td>\n",
       "      <td>0</td>\n",
       "      <td>0</td>\n",
       "    </tr>\n",
       "    <tr>\n",
       "      <th>3</th>\n",
       "      <td>0</td>\n",
       "      <td>0</td>\n",
       "      <td>0</td>\n",
       "      <td>0</td>\n",
       "      <td>1</td>\n",
       "      <td>2</td>\n",
       "      <td>0</td>\n",
       "      <td>0</td>\n",
       "      <td>0</td>\n",
       "      <td>0</td>\n",
       "      <td>...</td>\n",
       "      <td>3</td>\n",
       "      <td>0</td>\n",
       "      <td>0</td>\n",
       "      <td>0</td>\n",
       "      <td>0</td>\n",
       "      <td>1</td>\n",
       "      <td>0</td>\n",
       "      <td>0</td>\n",
       "      <td>0</td>\n",
       "      <td>0</td>\n",
       "    </tr>\n",
       "    <tr>\n",
       "      <th>4</th>\n",
       "      <td>3</td>\n",
       "      <td>0</td>\n",
       "      <td>0</td>\n",
       "      <td>0</td>\n",
       "      <td>0</td>\n",
       "      <td>0</td>\n",
       "      <td>0</td>\n",
       "      <td>0</td>\n",
       "      <td>0</td>\n",
       "      <td>0</td>\n",
       "      <td>...</td>\n",
       "      <td>0</td>\n",
       "      <td>0</td>\n",
       "      <td>0</td>\n",
       "      <td>0</td>\n",
       "      <td>0</td>\n",
       "      <td>0</td>\n",
       "      <td>0</td>\n",
       "      <td>0</td>\n",
       "      <td>0</td>\n",
       "      <td>0</td>\n",
       "    </tr>\n",
       "    <tr>\n",
       "      <th>5</th>\n",
       "      <td>4</td>\n",
       "      <td>0</td>\n",
       "      <td>0</td>\n",
       "      <td>0</td>\n",
       "      <td>5</td>\n",
       "      <td>4</td>\n",
       "      <td>5</td>\n",
       "      <td>5</td>\n",
       "      <td>3</td>\n",
       "      <td>5</td>\n",
       "      <td>...</td>\n",
       "      <td>7</td>\n",
       "      <td>8</td>\n",
       "      <td>7</td>\n",
       "      <td>4</td>\n",
       "      <td>3</td>\n",
       "      <td>7</td>\n",
       "      <td>5</td>\n",
       "      <td>0</td>\n",
       "      <td>0</td>\n",
       "      <td>0</td>\n",
       "    </tr>\n",
       "    <tr>\n",
       "      <th>6</th>\n",
       "      <td>4</td>\n",
       "      <td>0</td>\n",
       "      <td>0</td>\n",
       "      <td>0</td>\n",
       "      <td>0</td>\n",
       "      <td>0</td>\n",
       "      <td>0</td>\n",
       "      <td>0</td>\n",
       "      <td>0</td>\n",
       "      <td>0</td>\n",
       "      <td>...</td>\n",
       "      <td>14</td>\n",
       "      <td>0</td>\n",
       "      <td>0</td>\n",
       "      <td>0</td>\n",
       "      <td>0</td>\n",
       "      <td>0</td>\n",
       "      <td>0</td>\n",
       "      <td>0</td>\n",
       "      <td>0</td>\n",
       "      <td>0</td>\n",
       "    </tr>\n",
       "    <tr>\n",
       "      <th>7</th>\n",
       "      <td>5</td>\n",
       "      <td>0</td>\n",
       "      <td>0</td>\n",
       "      <td>0</td>\n",
       "      <td>0</td>\n",
       "      <td>0</td>\n",
       "      <td>0</td>\n",
       "      <td>0</td>\n",
       "      <td>0</td>\n",
       "      <td>0</td>\n",
       "      <td>...</td>\n",
       "      <td>0</td>\n",
       "      <td>0</td>\n",
       "      <td>0</td>\n",
       "      <td>0</td>\n",
       "      <td>0</td>\n",
       "      <td>0</td>\n",
       "      <td>0</td>\n",
       "      <td>0</td>\n",
       "      <td>0</td>\n",
       "      <td>0</td>\n",
       "    </tr>\n",
       "    <tr>\n",
       "      <th>8</th>\n",
       "      <td>4</td>\n",
       "      <td>0</td>\n",
       "      <td>0</td>\n",
       "      <td>0</td>\n",
       "      <td>0</td>\n",
       "      <td>0</td>\n",
       "      <td>0</td>\n",
       "      <td>3</td>\n",
       "      <td>2</td>\n",
       "      <td>0</td>\n",
       "      <td>...</td>\n",
       "      <td>1</td>\n",
       "      <td>0</td>\n",
       "      <td>0</td>\n",
       "      <td>0</td>\n",
       "      <td>0</td>\n",
       "      <td>0</td>\n",
       "      <td>0</td>\n",
       "      <td>0</td>\n",
       "      <td>0</td>\n",
       "      <td>0</td>\n",
       "    </tr>\n",
       "    <tr>\n",
       "      <th>9</th>\n",
       "      <td>8</td>\n",
       "      <td>0</td>\n",
       "      <td>0</td>\n",
       "      <td>0</td>\n",
       "      <td>0</td>\n",
       "      <td>0</td>\n",
       "      <td>0</td>\n",
       "      <td>0</td>\n",
       "      <td>0</td>\n",
       "      <td>0</td>\n",
       "      <td>...</td>\n",
       "      <td>203</td>\n",
       "      <td>214</td>\n",
       "      <td>166</td>\n",
       "      <td>0</td>\n",
       "      <td>0</td>\n",
       "      <td>0</td>\n",
       "      <td>0</td>\n",
       "      <td>0</td>\n",
       "      <td>0</td>\n",
       "      <td>0</td>\n",
       "    </tr>\n",
       "  </tbody>\n",
       "</table>\n",
       "<p>10 rows × 785 columns</p>\n",
       "</div>"
      ],
      "text/plain": [
       "   label  pixel1  pixel2  pixel3  pixel4  pixel5  pixel6  pixel7  pixel8  \\\n",
       "0      2       0       0       0       0       0       0       0       0   \n",
       "1      9       0       0       0       0       0       0       0       0   \n",
       "2      6       0       0       0       0       0       0       0       5   \n",
       "3      0       0       0       0       1       2       0       0       0   \n",
       "4      3       0       0       0       0       0       0       0       0   \n",
       "5      4       0       0       0       5       4       5       5       3   \n",
       "6      4       0       0       0       0       0       0       0       0   \n",
       "7      5       0       0       0       0       0       0       0       0   \n",
       "8      4       0       0       0       0       0       0       3       2   \n",
       "9      8       0       0       0       0       0       0       0       0   \n",
       "\n",
       "   pixel9    ...     pixel775  pixel776  pixel777  pixel778  pixel779  \\\n",
       "0       0    ...            0         0         0         0         0   \n",
       "1       0    ...            0         0         0         0         0   \n",
       "2       0    ...            0         0         0        30        43   \n",
       "3       0    ...            3         0         0         0         0   \n",
       "4       0    ...            0         0         0         0         0   \n",
       "5       5    ...            7         8         7         4         3   \n",
       "6       0    ...           14         0         0         0         0   \n",
       "7       0    ...            0         0         0         0         0   \n",
       "8       0    ...            1         0         0         0         0   \n",
       "9       0    ...          203       214       166         0         0   \n",
       "\n",
       "   pixel780  pixel781  pixel782  pixel783  pixel784  \n",
       "0         0         0         0         0         0  \n",
       "1         0         0         0         0         0  \n",
       "2         0         0         0         0         0  \n",
       "3         1         0         0         0         0  \n",
       "4         0         0         0         0         0  \n",
       "5         7         5         0         0         0  \n",
       "6         0         0         0         0         0  \n",
       "7         0         0         0         0         0  \n",
       "8         0         0         0         0         0  \n",
       "9         0         0         0         0         0  \n",
       "\n",
       "[10 rows x 785 columns]"
      ]
     },
     "execution_count": 58,
     "metadata": {},
     "output_type": "execute_result"
    }
   ],
   "source": [
    "data = pd.read_csv(\"fashion-mnist_train.csv\")\n",
    "data.head(n=10)"
   ]
  },
  {
   "cell_type": "code",
   "execution_count": 59,
   "metadata": {},
   "outputs": [
    {
     "name": "stdout",
     "output_type": "stream",
     "text": [
      "<class 'numpy.ndarray'>\n",
      "(60000, 785)\n",
      "[[2 0 0 ... 0 0 0]\n",
      " [9 0 0 ... 0 0 0]\n",
      " [6 0 0 ... 0 0 0]\n",
      " [0 0 0 ... 0 0 0]\n",
      " [3 0 0 ... 0 0 0]]\n"
     ]
    }
   ],
   "source": [
    "train = data.values\n",
    "x = train[:,1:]\n",
    "y = train[:,0]\n",
    "print(type(train))\n",
    "print(train.shape)\n",
    "print(train[:5,])"
   ]
  },
  {
   "cell_type": "code",
   "execution_count": 60,
   "metadata": {},
   "outputs": [
    {
     "data": {
      "text/plain": [
       "(60000, 784)"
      ]
     },
     "execution_count": 60,
     "metadata": {},
     "output_type": "execute_result"
    }
   ],
   "source": [
    "x.shape"
   ]
  },
  {
   "cell_type": "markdown",
   "metadata": {},
   "source": [
    "### Visualising Data"
   ]
  },
  {
   "cell_type": "code",
   "execution_count": 61,
   "metadata": {},
   "outputs": [
    {
     "data": {
      "text/plain": [
       "<matplotlib.image.AxesImage at 0x1a14cbc668>"
      ]
     },
     "execution_count": 61,
     "metadata": {},
     "output_type": "execute_result"
    },
    {
     "data": {
      "image/png": "[encoded data removed]",
      "text/plain": [
       "<Figure size 432x288 with 1 Axes>"
      ]
     },
     "metadata": {},
     "output_type": "display_data"
    }
   ],
   "source": [
    "first = x[6]\n",
    "first = first.reshape((28,28))\n",
    "plt.imshow(first,cmap='gray')"
   ]
  },
  {
   "cell_type": "code",
   "execution_count": 62,
   "metadata": {},
   "outputs": [
    {
     "name": "stdout",
     "output_type": "stream",
     "text": [
      "(60000, 785)\n",
      "[[0 0 0 ... 0 0 0]\n",
      " [0 0 0 ... 0 0 0]\n",
      " [0 0 0 ... 0 0 0]\n",
      " [0 0 0 ... 0 0 0]\n",
      " [0 0 0 ... 0 0 0]]\n"
     ]
    }
   ],
   "source": [
    "train = sorted(train, key = lambda x:x[0])\n",
    "train = np.array(train)\n",
    "print(train.shape)\n",
    "print(train[:5,])"
   ]
  },
  {
   "cell_type": "code",
   "execution_count": 63,
   "metadata": {},
   "outputs": [
    {
     "name": "stdout",
     "output_type": "stream",
     "text": [
      "(60000,)\n",
      "9\n",
      "[0 0 0 ... 9 9 9]\n"
     ]
    }
   ],
   "source": [
    "i = train[:,0]\n",
    "print(i.shape)\n",
    "print(i[-1])\n",
    "i.reshape(60000,1)\n",
    "print(i)"
   ]
  },
  {
   "cell_type": "markdown",
   "metadata": {},
   "source": [
    "### Labelling and storing in lists"
   ]
  },
  {
   "cell_type": "code",
   "execution_count": 64,
   "metadata": {},
   "outputs": [],
   "source": [
    "def idex(i,num):\n",
    "    return list(i).index(num)\n"
   ]
  },
  {
   "cell_type": "code",
   "execution_count": 65,
   "metadata": {},
   "outputs": [
    {
     "name": "stdout",
     "output_type": "stream",
     "text": [
      "9\n"
     ]
    }
   ],
   "source": [
    "classes = list()\n",
    "labels = list()\n",
    "print(i[-1])\n"
   ]
  },
  {
   "cell_type": "code",
   "execution_count": 66,
   "metadata": {},
   "outputs": [
    {
     "name": "stdout",
     "output_type": "stream",
     "text": [
      "(6000, 784)\n",
      "(6000, 784)\n",
      "(6000, 784)\n",
      "(6000, 784)\n",
      "(6000, 784)\n",
      "(6000, 784)\n",
      "(6000, 784)\n",
      "(6000, 784)\n",
      "(6000, 784)\n",
      "(6000, 784)\n"
     ]
    }
   ],
   "source": [
    "def construct():\n",
    "    t = int()\n",
    "    prev = 0\n",
    "    for z in range(1,10):\n",
    "        t = idex(i,z)\n",
    "        temp = train[prev:t,1:]\n",
    "        temp2 = train[prev:t,0]\n",
    "        labels.append(temp2)\n",
    "        print(temp.shape)\n",
    "        classes.append(temp)\n",
    "        prev = t\n",
    "    temp = train[t:,1:]\n",
    "    temp2= train[t:,0]\n",
    "    labels.append(temp)\n",
    "    classes.append(temp)\n",
    "\n",
    "construct()\n",
    "print(classes[8].shape)"
   ]
  },
  {
   "cell_type": "code",
   "execution_count": 72,
   "metadata": {},
   "outputs": [
    {
     "name": "stdout",
     "output_type": "stream",
     "text": [
      "[[0 0 0 ... 0 0 0]\n",
      " [0 0 0 ... 0 0 0]\n",
      " [0 0 0 ... 0 0 0]\n",
      " ...\n",
      " [0 0 0 ... 0 0 0]\n",
      " [0 0 0 ... 0 0 0]\n",
      " [0 0 0 ... 0 0 0]]\n"
     ]
    }
   ],
   "source": [
    "print(classes[4])"
   ]
  },
  {
   "cell_type": "code",
   "execution_count": 68,
   "metadata": {},
   "outputs": [
    {
     "name": "stdout",
     "output_type": "stream",
     "text": [
      "(3, 1)\n",
      "[[0 1 2 3]\n",
      " [1 4 5 6]]\n"
     ]
    }
   ],
   "source": [
    "t1 = np.array([[1],[2],[3]])\n",
    "print(t1.shape)\n",
    "h = np.append([[0],[1]],[[1, 2, 3], [4, 5, 6]], axis=1)\n",
    "print(h)"
   ]
  },
  {
   "cell_type": "markdown",
   "metadata": {},
   "source": [
    "### Algorithm and Results"
   ]
  },
  {
   "cell_type": "code",
   "execution_count": 69,
   "metadata": {},
   "outputs": [],
   "source": [
    "# Algorithm\n",
    "def hypothesis(x,theta,bias):\n",
    "    result = bias + np.dot(x,theta)\n",
    "    return sigmoid(result)\n",
    "\n",
    "def sigmoid(a):\n",
    "    return 1.0/(1.0 + np.exp(-1.0*a))   # Use floats for accurate results\n",
    "\n",
    "def error(x,theta,y,bias):\n",
    "    it = x.shape[0]\n",
    "    e = 0.0\n",
    "    for i in range(it):\n",
    "        h = hypothesis(x[i],theta,bias)\n",
    "        e += y[i]*np.log2(h) + (1-y[i])*np.log2(1-h)\n",
    "    return -e/it\n",
    "\n",
    "def grad(x,y,theta,bias,batch_size = 1):\n",
    "    it = x.shape[0]\n",
    "    indices = np.arange(it)\n",
    "    np.random.shuffle(indices)\n",
    "    indices = indices[:batch_size]\n",
    "    g =  np.zeros(theta.shape)\n",
    "    g_b = 0.0\n",
    "    for i in indices:\n",
    "        h = hypothesis(x[i],theta,bias)\n",
    "        g += (y[i] - h)*x[i]\n",
    "        g_b += (y[i] - h)\n",
    "    g /= it\n",
    "    g_b /= it\n",
    "    return (g,g_b)\n",
    "\n",
    "def grad_des(x,y,theta,bias,learning_rate = 0.1):\n",
    "    e =  error(x,theta,y,bias)\n",
    "    g,g_b = grad(x,y,theta,bias)\n",
    "    theta = theta + learning_rate*g\n",
    "    bias = bias + learning_rate*g_b\n",
    "    return theta,bias\n",
    "\n",
    "def predict(x,theta,bias):\n",
    "    \n",
    "    confidence = hypothesis(x,theta,bias)\n",
    "    if confidence<0.5:\n",
    "        return 0\n",
    "    else:\n",
    "        return 1"
   ]
  },
  {
   "cell_type": "code",
   "execution_count": 70,
   "metadata": {},
   "outputs": [
    {
     "name": "stdout",
     "output_type": "stream",
     "text": [
      "(6000,)\n"
     ]
    }
   ],
   "source": [
    "# print(labels[1])\n",
    "print(labels[1].shape)\n"
   ]
  },
  {
   "cell_type": "code",
   "execution_count": 71,
   "metadata": {},
   "outputs": [
    {
     "name": "stdout",
     "output_type": "stream",
     "text": [
      "[0.59766942 0.68320625 0.57987808 0.21506004 0.1468098  0.42166382\n",
      " 0.77025461 0.13041829 0.16576481 0.32703255 0.06389851 0.90497682\n",
      " 0.24523706 0.66749691 0.82038601 0.20900682 0.60634571 0.1199293\n",
      " 0.95364726 0.73164174 0.34398183 0.59499816 0.04830563 0.60462672\n",
      " 0.68704043 0.9700323  0.76892483 0.41510603 0.78058748 0.32313881\n",
      " 0.67042549 0.04489424 0.3594806  0.12135576 0.04892088 0.83823066\n",
      " 0.42850358 0.17085916 0.23035251 0.61942595 0.92610783 0.56114384\n",
      " 0.85786609 0.99979069 0.99856613 0.79344416 0.12187212 0.41264532\n",
      " 0.2056986  0.44863852 0.05053488 0.45040641 0.35608518 0.10064201\n",
      " 0.88747369 0.27740507 0.64590414 0.33615907 0.96055097 0.55914277\n",
      " 0.40637583 0.22232812 0.84189148 0.56404355 0.38074502 0.17968047\n",
      " 0.29492436 0.22348878 0.49725011 0.73546173 0.8160854  0.77646195\n",
      " 0.91809518 0.18434775 0.03429712 0.76717608 0.7654227  0.14440351\n",
      " 0.79268653 0.08586016 0.90472518 0.21601339 0.75017814 0.94712683\n",
      " 0.46925684 0.04643351 0.13303639 0.68029791 0.28561984 0.70594205\n",
      " 0.39066882 0.210812   0.28983211 0.94173509 0.19366439 0.00902528\n",
      " 0.46662047 0.57096202 0.90153304 0.11725515 0.55734901 0.76224223\n",
      " 0.43426703 0.82477082 0.30566759 0.65634421 0.4220949  0.65284307\n",
      " 0.59049006 0.96134256 0.68871613 0.28181403 0.29555151 0.61633071\n",
      " 0.17444711 0.7571904  0.13407053 0.26612175 0.39498032 0.01804932\n",
      " 0.01961987 0.89047608 0.982731   0.53017494 0.98989007 0.29381115\n",
      " 0.02653462 0.2882614  0.59773543 0.40738659 0.10032546 0.80931698\n",
      " 0.54112777 0.92194937 0.50030689 0.22651525 0.34022067 0.6391539\n",
      " 0.86940459 0.27719709 0.33465707 0.22637309 0.70126794 0.42953273\n",
      " 0.05972834 0.8049397  0.11757924 0.20369202 0.4964738  0.84573452\n",
      " 0.68902749 0.73612484 0.83045708 0.64480586 0.81861916 0.99398151\n",
      " 0.63931015 0.36956435 0.92545859 0.44987023 0.82673736 0.99530401\n",
      " 0.36528214 0.43775372 0.8082517  0.47626821 0.10803229 0.62482655\n",
      " 0.51335546 0.06581666 0.45261123 0.58171226 0.94285017 0.82445535\n",
      " 0.78588638 0.76343508 0.80492566 0.68864907 0.40258478 0.00685191\n",
      " 0.88235749 0.64870225 0.94739466 0.40816117 0.12231304 0.25696271\n",
      " 0.59929675 0.67737325 0.40554981 0.28266841 0.23023686 0.46510757\n",
      " 0.58490745 0.55918544 0.71114977 0.12955856 0.93807864 0.35888895\n",
      " 0.61672786 0.80318978 0.04352375 0.29407996 0.63680845 0.3165044\n",
      " 0.19588406 0.2172566  0.68004936 0.72784276 0.33700578 0.64564304\n",
      " 0.80866679 0.35416398 0.14172235 0.12930439 0.01316272 0.9601878\n",
      " 0.36769839 0.40792487 0.45429616 0.18886533 0.97826906 0.7495253\n",
      " 0.79920643 0.97966264 0.00743779 0.09960704 0.54426897 0.09088792\n",
      " 0.052546   0.54242326 0.45529041 0.83711457 0.34703851 0.61595789\n",
      " 0.3872608  0.84812056 0.23769361 0.49567006 0.05096873 0.44448899\n",
      " 0.64631717 0.53453674 0.35816094 0.65083838 0.19307753 0.16498604\n",
      " 0.78369334 0.64706333 0.93682915 0.4266531  0.23037525 0.26060881\n",
      " 0.64950426 0.28099555 0.42502597 0.34366732 0.73297682 0.61489366\n",
      " 0.06146447 0.28458686 0.52827017 0.98391824 0.2010901  0.80246678\n",
      " 0.54169748 0.40534189 0.80462016 0.62551991 0.61822472 0.89912461\n",
      " 0.38044613 0.52061357 0.83069996 0.17105535 0.67787538 0.17288832\n",
      " 0.04352145 0.74889824 0.37222293 0.10987208 0.70511946 0.79409218\n",
      " 0.45180131 0.53315564 0.54511821 0.72457808 0.55077802 0.51440758\n",
      " 0.41901408 0.74892939 0.29629236 0.27527614 0.40677081 0.72621286\n",
      " 0.26277387 0.29512793 0.44299814 0.56200669 0.2596093  0.30513469\n",
      " 0.7901855  0.25112504 0.9274602  0.98907729 0.70380116 0.90707037\n",
      " 0.95016942 0.57388527 0.36397383 0.90344515 0.51833639 0.87659903\n",
      " 0.23317529 0.60771984 0.32838581 0.15239753 0.82161702 0.83363339\n",
      " 0.54231781 0.23495456 0.69157659 0.14617944 0.64269881 0.57668268\n",
      " 0.01353503 0.62238354 0.61941235 0.81539245 0.99139325 0.92486451\n",
      " 0.85088028 0.23655084 0.30246736 0.99202779 0.3360562  0.42822497\n",
      " 0.22331547 0.05744396 0.18432666 0.18578027 0.09880111 0.0953107\n",
      " 0.90546946 0.80893795 0.53523614 0.96626852 0.36287955 0.06183802\n",
      " 0.70909656 0.9715515  0.43947894 0.33538537 0.89284046 0.66479546\n",
      " 0.39209587 0.16275228 0.8347524  0.81581137 0.5385451  0.42246059\n",
      " 0.86934586 0.90265716 0.00383087 0.49863724 0.81549883 0.46026397\n",
      " 0.42896561 0.32224901 0.06246288 0.02025917 0.40376447 0.462326\n",
      " 0.15666658 0.01117708 0.06620811 0.48351267 0.46869334 0.24926256\n",
      " 0.85654568 0.95807861 0.36266616 0.35471176 0.8830348  0.36498223\n",
      " 0.79577547 0.99989692 0.28563295 0.5671509  0.51971867 0.9139809\n",
      " 0.73405103 0.69517398 0.3226162  0.85114326 0.39244298 0.40835016\n",
      " 0.62594462 0.34516559 0.07341717 0.41016124 0.93759165 0.05750092\n",
      " 0.74847845 0.29186563 0.28270247 0.07813453 0.97481791 0.1563205\n",
      " 0.88585672 0.66530432 0.32195112 0.90316277 0.2101593  0.98883836\n",
      " 0.17964997 0.4122422  0.66223517 0.36170148 0.50011402 0.64521657\n",
      " 0.65735145 0.94783381 0.60484808 0.76239678 0.14874492 0.34142694\n",
      " 0.07033905 0.49222318 0.05588705 0.88123411 0.26627053 0.53121015\n",
      " 0.24256414 0.26211277 0.76514769 0.73118914 0.02456041 0.92824369\n",
      " 0.71958972 0.77197819 0.706966   0.85767148 0.00698127 0.65065732\n",
      " 0.74966599 0.86671572 0.62630355 0.06440954 0.75471246 0.65646264\n",
      " 0.0542267  0.55426531 0.85760396 0.9637864  0.64935814 0.50389772\n",
      " 0.04690615 0.33812124 0.12179731 0.34471384 0.49610654 0.57746637\n",
      " 0.65502322 0.07350478 0.07364236 0.72024662 0.53287787 0.03652545\n",
      " 0.11098824 0.56684197 0.85305446 0.67284058 0.57492608 0.47802427\n",
      " 0.33594212 0.22415782 0.39200581 0.9849508  0.94350393 0.42292755\n",
      " 0.44994396 0.43438421 0.91314009 0.62627536 0.57280449 0.95744006\n",
      " 0.00428691 0.46660445 0.15564421 0.79796269 0.57544948 0.06420744\n",
      " 0.76201604 0.95580009 0.28567879 0.9459911  0.40530935 0.26728337\n",
      " 0.85078952 0.94240245 0.13397736 0.43980812 0.61051887 0.05313132\n",
      " 0.49428931 0.13007349 0.75769103 0.51000442 0.19027907 0.03836632\n",
      " 0.11916793 0.73425659 0.41877438 0.87617813 0.11808616 0.98056653\n",
      " 0.21621644 0.18327267 0.53825958 0.61689544 0.97817749 0.71094343\n",
      " 0.52348114 0.64353275 0.71916455 0.34114467 0.50284948 0.01976417\n",
      " 0.8216416  0.91015172 0.97707687 0.41913909 0.96807006 0.06894753\n",
      " 0.16671315 0.71119115 0.85206427 0.95312113 0.69043331 0.1091804\n",
      " 0.01436989 0.10765723 0.5768798  0.92345315 0.35322405 0.39713672\n",
      " 0.23741373 0.69563708 0.08583376 0.34681788 0.89553666 0.5923405\n",
      " 0.5003867  0.28730951 0.4531543  0.38195295 0.35407908 0.91533354\n",
      " 0.65012196 0.08070589 0.25220246 0.72567486 0.56944877 0.22940053\n",
      " 0.62839223 0.36813239 0.61552049 0.55191775 0.52129817 0.01022097\n",
      " 0.25133243 0.56144619 0.91463592 0.04975236 0.95350142 0.98938702\n",
      " 0.45024892 0.38561422 0.65993635 0.53069608 0.04988819 0.87961022\n",
      " 0.74027305 0.58972237 0.60484256 0.06775026 0.91055733 0.91340638\n",
      " 0.12291443 0.64154532 0.48400594 0.42171749 0.6796474  0.33923145\n",
      " 0.36424801 0.11684205 0.43561837 0.74864664 0.92224296 0.12581068\n",
      " 0.30833243 0.55531496 0.80187867 0.13419363 0.91024209 0.56856858\n",
      " 0.73143283 0.05213998 0.65273271 0.84836932 0.08633968 0.73475505\n",
      " 0.28278389 0.75678926 0.02932566 0.56017033 0.91206407 0.74840382\n",
      " 0.05719786 0.12877262 0.42505272 0.17055371 0.69429136 0.3580844\n",
      " 0.80625669 0.00412773 0.2061971  0.52484182 0.16759086 0.72348093\n",
      " 0.28669957 0.18788304 0.61698049 0.83771249 0.06456606 0.57592996\n",
      " 0.21276654 0.92181679 0.8666406  0.44051529 0.4741866  0.63809815\n",
      " 0.72486785 0.30669096 0.96098205 0.33027878 0.79869993 0.6648297\n",
      " 0.92923314 0.38973982 0.87305657 0.4681366  0.4774446  0.45987585\n",
      " 0.8768149  0.52288448 0.12593399 0.77994407 0.58391158 0.07790709\n",
      " 0.40340582 0.50877676 0.20777366 0.89577801 0.82806989 0.6008807\n",
      " 0.84385488 0.98290859 0.76466774 0.43739048 0.30889987 0.62430187\n",
      " 0.34332418 0.92551612 0.62138341 0.49611656 0.20937668 0.78045982\n",
      " 0.7029734  0.90812057 0.85613799 0.09241896 0.9868707  0.47788799\n",
      " 0.71871084 0.67649033 0.41921157 0.96638529 0.86180736 0.06363885\n",
      " 0.71301491 0.3244405  0.80495969 0.76646515 0.63245882 0.75107998\n",
      " 0.76613401 0.81932325 0.15450742 0.72194537 0.87082054 0.4330007\n",
      " 0.15017064 0.95482299 0.86856562 0.7241185  0.42813897 0.84815836\n",
      " 0.3046241  0.63634454 0.25357345 0.25109372 0.9576441  0.46555053\n",
      " 0.67263021 0.99174409 0.05027779 0.32345453 0.10038955 0.78259627\n",
      " 0.86157549 0.67951944 0.24460649 0.74840403 0.60975454 0.00882915\n",
      " 0.95228743 0.33071682 0.16394208 0.5950201  0.52927461 0.07760212\n",
      " 0.41476205 0.49985636 0.70080362 0.90020902 0.59611413 0.09186524\n",
      " 0.26271137 0.98154797 0.43636159 0.08084444 0.27970416 0.87538383\n",
      " 0.22410836 0.91349785 0.23058348 0.57472354 0.49586876 0.65202952\n",
      " 0.30191765 0.64213549 0.80126565 0.63269583 0.55267163 0.40424719\n",
      " 0.58239514 0.93431723 0.3810939  0.79205346 0.52136358 0.72727725\n",
      " 0.33477377 0.65982726 0.95082627 0.85117564 0.41770288 0.75067283\n",
      " 0.78588836 0.37135547 0.01827271 0.17129931 0.45948835 0.06311006\n",
      " 0.7050888  0.06338922 0.52544163 0.8622804  0.40613104 0.28845362\n",
      " 0.21851168 0.62358009 0.10987647 0.72472837]\n"
     ]
    }
   ],
   "source": [
    "theta1 = np.random.random((classes[0].shape[1],))\n",
    "print(theta1)\n",
    "bias1 = np.random.random()"
   ]
  },
  {
   "cell_type": "code",
   "execution_count": 73,
   "metadata": {},
   "outputs": [
    {
     "data": {
      "text/plain": [
       "LogisticRegression(C=1.0, class_weight=None, dual=False, fit_intercept=True,\n",
       "          intercept_scaling=1, max_iter=100, multi_class='ovr', n_jobs=1,\n",
       "          penalty='l2', random_state=None, solver='liblinear', tol=0.0001,\n",
       "          verbose=0, warm_start=False)"
      ]
     },
     "execution_count": 73,
     "metadata": {},
     "output_type": "execute_result"
    }
   ],
   "source": [
    "lr = LogisticRegression()\n",
    "lr.fit(x1,y1)"
   ]
  },
  {
   "cell_type": "markdown",
   "metadata": {},
   "source": [
    "### 3 and 4 (optional)"
   ]
  },
  {
   "cell_type": "code",
   "execution_count": 83,
   "metadata": {},
   "outputs": [
    {
     "data": {
      "text/plain": [
       "array([0])"
      ]
     },
     "execution_count": 83,
     "metadata": {},
     "output_type": "execute_result"
    }
   ],
   "source": [
    "x1 = np.concatenate((classes[3],classes[4]))\n",
    "y1 = np.concatenate((labels[0],labels[1]))\n",
    "xtest = train[1005,1:].reshape(1,-1)\n",
    "lr = LogisticRegression()\n",
    "lr.fit(x1,y1)\n",
    "lr.predict(xtest)"
   ]
  },
  {
   "cell_type": "markdown",
   "metadata": {},
   "source": [
    "### 2 and 3 (optional)"
   ]
  },
  {
   "cell_type": "code",
   "execution_count": 76,
   "metadata": {},
   "outputs": [
    {
     "data": {
      "text/plain": [
       "array([1])"
      ]
     },
     "execution_count": 76,
     "metadata": {},
     "output_type": "execute_result"
    }
   ],
   "source": [
    "x1 = np.concatenate((classes[2],classes[3]))\n",
    "y1 = np.concatenate((labels[0],labels[1]))\n",
    "lr = LogisticRegression()\n",
    "lr.fit(x1,y1)\n",
    "lr.predict(xtest)"
   ]
  },
  {
   "cell_type": "markdown",
   "metadata": {},
   "source": [
    "### ALL POSSIBLE COMBINATIONS"
   ]
  },
  {
   "cell_type": "code",
   "execution_count": 77,
   "metadata": {},
   "outputs": [],
   "source": [
    "result = {0:0,1:0,2:0,3:0,4:0,5:0,6:0,7:0,8:0,9:0}\n",
    "op = 0\n",
    "for i in range(9):\n",
    "    for j in range(i+1,10):\n",
    "        op+=1\n",
    "        x1 = np.concatenate((classes[i],classes[j]))\n",
    "        y1 = np.concatenate((labels[0],labels[1]))\n",
    "        lr = LogisticRegression()\n",
    "        lr.fit(x1,y1)\n",
    "#       xtest = x1[1005,:].reshape(1,-1)\n",
    "        t = lr.predict(xtest)\n",
    "        if t[0] == 0:\n",
    "            result[i]+=1\n",
    "        else:\n",
    "            result[j]+=1\n",
    "\n",
    "\n"
   ]
  },
  {
   "cell_type": "code",
   "execution_count": 78,
   "metadata": {},
   "outputs": [
    {
     "name": "stdout",
     "output_type": "stream",
     "text": [
      "{0: 5, 1: 4, 2: 6, 3: 8, 4: 6, 5: 1, 6: 9, 7: 2, 8: 4, 9: 0}\n",
      "Number of combinations checked = 45\n"
     ]
    }
   ],
   "source": [
    "print(result)\n",
    "print(\"Number of combinations checked = {0}\".format(op))"
   ]
  },
  {
   "cell_type": "code",
   "execution_count": 79,
   "metadata": {},
   "outputs": [
    {
     "name": "stdout",
     "output_type": "stream",
     "text": [
      "6\n"
     ]
    }
   ],
   "source": [
    "max_label = max(result,key = lambda x:result[x])\n",
    "print(max_label)\n"
   ]
  },
  {
   "cell_type": "code",
   "execution_count": 81,
   "metadata": {},
   "outputs": [
    {
     "data": {
      "text/plain": [
       "<matplotlib.image.AxesImage at 0x1a5b72d9b0>"
      ]
     },
     "execution_count": 81,
     "metadata": {},
     "output_type": "execute_result"
    },
    {
     "data": {
      "image/png": "[encoded data removed]",
      "text/plain": [
       "<Figure size 432x288 with 1 Axes>"
      ]
     },
     "metadata": {},
     "output_type": "display_data"
    }
   ],
   "source": [
    "first = xtest\n",
    "first = first.reshape((28,28))\n",
    "plt.imshow(first,cmap='gray')"
   ]
  }
 ],
 "metadata": {
  "kernelspec": {
   "display_name": "Python 3",
   "language": "python",
   "name": "python3"
  },
  "language_info": {
   "codemirror_mode": {
    "name": "ipython",
    "version": 3
   },
   "file_extension": ".py",
   "mimetype": "text/x-python",
   "name": "python",
   "nbconvert_exporter": "python",
   "pygments_lexer": "ipython3",
   "version": "3.6.5"
  }
 },
 "nbformat": 4,
 "nbformat_minor": 2
}
